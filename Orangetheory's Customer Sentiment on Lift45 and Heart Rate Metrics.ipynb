{
 "cells": [
  {
   "cell_type": "markdown",
   "id": "14981427",
   "metadata": {},
   "source": [
    "# Scraping Orangetheory Reddit Posts"
   ]
  },
  {
   "cell_type": "markdown",
   "id": "e0f05f8e",
   "metadata": {},
   "source": [
    "### Importing relevant packages"
   ]
  },
  {
   "cell_type": "code",
   "execution_count": 109,
   "id": "e929a954",
   "metadata": {},
   "outputs": [],
   "source": [
    "import praw\n",
    "import time\n",
    "import json\n",
    "from datetime import datetime, timedelta\n",
    "import codecs\n",
    "import os\n",
    "from dotenv import load_dotenv"
   ]
  },
  {
   "cell_type": "markdown",
   "id": "35f637d9",
   "metadata": {},
   "source": [
    "### Initializing a Reddit object and defining the subreddit, keywords, and time frame of interest"
   ]
  },
  {
   "cell_type": "code",
   "execution_count": 114,
   "id": "e7f04c8c",
   "metadata": {},
   "outputs": [],
   "source": [
    "load_dotenv()\n",
    "\n",
    "reddit = praw.Reddit(\n",
    "   client_id=os.getenv(\"REDDIT_CLIENT_ID\"),\n",
    "   client_secret=os.getenv(\"REDDIT_CLIENT_SECRET\"),\n",
    "   user_agent=os.getenv(\"REDDIT_USER_AGENT\"),\n",
    "   username=os.getenv(\"REDDIT_USERNAME\"),\n",
    "   password=os.getenv(\"REDDIT_PASSWORD\")\n",
    ")"
   ]
  },
  {
   "cell_type": "code",
   "execution_count": 116,
   "id": "fcbf0cdb",
   "metadata": {},
   "outputs": [],
   "source": [
    "subreddit = reddit.subreddit(\"orangetheory\")\n",
    "keywords = ['lift45', 'lift 45']\n",
    "one_month_ago = int(time.time()) - 7 * 24 * 60 * 60"
   ]
  },
  {
   "cell_type": "markdown",
   "id": "b973c107",
   "metadata": {},
   "source": [
    "### Fetching all posts, comments, and replies about Lift45 from a specified time frame"
   ]
  },
  {
   "cell_type": "code",
   "execution_count": 117,
   "id": "56134e63",
   "metadata": {},
   "outputs": [],
   "source": [
    "def fetch_comments(comment, posts):\n",
    "    # Add comment to posts\n",
    "    decoded_comment = codecs.unicode_escape_decode(comment.body)[0]\n",
    "    clean_comment = decoded_comment.replace('’', \"'\")\n",
    "    clean_comment = clean_comment.encode('ascii', 'ignore').decode()\n",
    "    \n",
    "    posts.append({\n",
    "        'date': datetime.utcfromtimestamp(comment.created_utc).strftime('%Y-%m-%d'),\n",
    "        'author': comment.author.name if comment.author else 'Deleted',\n",
    "        'title': f'Re: {post.title}',\n",
    "        'body': clean_comment.replace('\\n', ' ').replace('\\t', ' ').replace('\\r', ' ')\n",
    "    })\n",
    "\n",
    "    # Process replies to the comment\n",
    "    for reply in comment.replies:\n",
    "        fetch_comments(reply, posts)\n",
    "\n",
    "posts = []\n",
    "\n",
    "for post in subreddit.new(limit = 1000):\n",
    "    if any(keyword in post.title.lower() for keyword in keywords):\n",
    "        if post.created_utc >= one_month_ago:\n",
    "            decoded_text = codecs.unicode_escape_decode(post.selftext)[0]\n",
    "            clean_text = decoded_text.replace('’', \"'\")\n",
    "            clean_text = clean_text.encode('ascii', 'ignore').decode()\n",
    "            \n",
    "            posts.append({\n",
    "                'date': datetime.utcfromtimestamp(post.created_utc).strftime('%Y-%m-%d'),\n",
    "                'author': post.author.name if post.author else 'Deleted',\n",
    "                'title': post.title,\n",
    "                'body': clean_text.replace('\\n', ' ').replace('\\t', ' ').replace('\\r', ' ')\n",
    "            })\n",
    "            \n",
    "            for comment in post.comments:\n",
    "                fetch_comments(comment, posts)"
   ]
  },
  {
   "cell_type": "code",
   "execution_count": 118,
   "id": "14dabb4f",
   "metadata": {},
   "outputs": [
    {
     "data": {
      "text/plain": [
       "{'date': '2023-07-19',\n",
       " 'author': 'SailBCC',\n",
       " 'title': '7/17/23 Lift 45 Total Body 3',\n",
       " 'body': \"I didn't see it posted yet. I think I remembered everything. Good day to choose some challenging weights!   Warmup: the usual   Block 1: 6:30.  Bench low row (explosive) - 8 reps each side  TRX Pull Ups - 8 reps  Block 2: 6:30 Clean to front squat - 8 reps   Split stance pulse squats - 8 reps each side   Block 3: 6:30 S/A chest press (explosive) - 8 reps each side  TRX tricep extensions -8 reps  Block 4: 6:30 Alternating 90 degree pop squats - 8 total Split stance deadlifts- 8 reps each side   Finisher - 2 rounds  30 second low plank knee drives 30 second bicycle crunch 15 second rest\"}"
      ]
     },
     "execution_count": 118,
     "metadata": {},
     "output_type": "execute_result"
    }
   ],
   "source": [
    "posts[0]"
   ]
  },
  {
   "cell_type": "markdown",
   "id": "e613f6af-ce1c-49ea-ae99-0d2e3fa3fae1",
   "metadata": {},
   "source": [
    "## ChatGPT API Setup\n",
    "#### Load the API key and relevant Python libaries.\n",
    "In this course, we've provided some code that loads the OpenAI API key for you."
   ]
  },
  {
   "cell_type": "code",
   "execution_count": 13,
   "id": "3503ba12",
   "metadata": {},
   "outputs": [],
   "source": [
    "import os\n",
    "import openai\n",
    "import sys\n",
    "from dotenv import load_dotenv, find_dotenv\n",
    "_ = load_dotenv(find_dotenv())\n",
    "\n",
    "openai.api_key  = os.environ['OPENAI_API_KEY']"
   ]
  },
  {
   "cell_type": "code",
   "execution_count": 14,
   "id": "1aefb2d4",
   "metadata": {},
   "outputs": [],
   "source": [
    "def get_completion(prompt, model=\"gpt-3.5-turbo\"):\n",
    "    messages = [{\"role\": \"user\", \"content\": prompt}]\n",
    "    response = openai.ChatCompletion.create(\n",
    "        model=model,\n",
    "        messages=messages,\n",
    "        temperature=0, # this is the degree of randomness of the model's output\n",
    "    )\n",
    "    return response.choices[0].message[\"content\"]"
   ]
  },
  {
   "cell_type": "markdown",
   "id": "143cbdc5",
   "metadata": {},
   "source": [
    "### Summarizing each Reddit post from the last month, focusing on customer sentiment about Lift45"
   ]
  },
  {
   "cell_type": "code",
   "execution_count": 61,
   "id": "ba9af4cc",
   "metadata": {},
   "outputs": [],
   "source": [
    "post_bodies = [post['post_body'] for post in posts]"
   ]
  },
  {
   "cell_type": "code",
   "execution_count": 62,
   "id": "1cb7a888",
   "metadata": {},
   "outputs": [
    {
     "data": {
      "text/plain": [
       "[\"I didn't see it posted yet. I think I remembered everything. Good day to choose some challenging weights!   Warmup: the usual   Block 1: 6:30.  Bench low row (explosive) - 8 reps each side  TRX Pull Ups - 8 reps  Block 2: 6:30 Clean to front squat - 8 reps   Split stance pulse squats - 8 reps each side   Block 3: 6:30 S/A chest press (explosive) - 8 reps each side  TRX tricep extensions -8 reps  Block 4: 6:30 Alternating 90 degree pop squats - 8 total Split stance deadlifts- 8 reps each side   Finisher - 2 rounds  30 second low plank knee drives 30 second bicycle crunch 15 second rest\",\n",
       " 'Havent seen this one posted yet and Im newer to OT so Im still not sure exactly how the Lift45 templates cycle through. Also apologies as I may screw up some of these exercise names lol  30 Min Block:  Each exercise was 6/8/10/12 reps, 4 rounds total. Also working unilaterally so 6 reps R, 6 reps L each exercise then up the reps.  DB Squat R/L DB Shoulder press R/L DB Lateral lunge R/L DB Standing one arm row R/L DB Single arm dumbbell swing R/L DB Bridge w/ single arm chest press R/L  If you made it through the 4 rounds then you moved on to three core exercises. Cant remember the first two because I didnt make it that far but the third was crunches  3 Min Finisher:   8/10/12 Jump squats 8/10/12 Push ups  If you made it through those three rounds then you held a plank until time was called.  I really liked this one overall! I enjoyed the 30 min block because it made it easier to go slow and lift heavy.',\n",
       " 'Block 1 - Floor Side - 6 min * 8 DB Front Squat, Slow * 8 DB Reverse Grip Low Row, Slow  Block 1 - Tread Side - 6 min * 8 DB Transverse Goblet Squat, Slow * 8 DB Standing Rainbow, Slow  Block 2 - Floor - 6 min * 8 Each DB SL Deadlift, Slow * 8 DB Upper Cut, Slow  Block 2 - Tread Side - 6 min * 8 DB Hip Bridge, Slow * 8 DB Kneeling Tall Tricep Extension, Slow  Finisher * 2 Rounds:  - 30 Sec Sprinter Sit-Ups - 30 Sec Wide Mountain Climbers with Power - 30 Sec Rest',\n",
       " 'Im 14 or so classes in and love it so far.  Im a female in my mid 20s, 55 & 179 pounds. When I was running often a few years ago I was at 138 and that worked well for my body. Ive never done any type of serious strength training so Im sure I couldve stood to gain pounds of muscle while looking more fit at that time.   Anyway, I slowly started gaining weight since 2021- not sure why besides working out less and drinking more. Scratch that, those two reasons are probably why LOL and have plateaued at my current weight.   My goal is to lose a significant amount of fat & build muscle. I know that the pounds are relative and theres so much that factors into it.   Im also trying to be significantly more diligent about tracking calories & protein.  My question is- if my goal for now is to slim down a good bit, would it be in my best interest to focus on the classic 2g classes and incorporate Lift45 a couple days a week or aim to incorporate more Lift classes? Im aiming for around 5-6 classes a week. Maybe someone here has been in a similar situation?   Im super dedicated to this but also have the lovely trait of being impatient so I want to be as efficient with my plan as possible.  Thanks in advance!',\n",
       " 'So my studio just added lift 45s to their lineup! I truly enjoy lifting/resistance training over the treadmills.   There is a day this week where there is a normal class at 8:45am then a lift at 10am. Im thinking of signing up for both. Is it normal to do something back to back like that?',\n",
       " \"This should be close, but not perfect. I'll edit if anyone remembers the missing details. There are two 14 minute main blocks plus a shorter core block. Each of the main blocks has a repeating exercise that you will do every 2.5 minutes. The coach will call for this and you pause where you're at in the other exercises, do the 10 reps, then pick up where you left off.  **Block 1 (14 minutes)**  * 10x - TRX High Row Explosive Tempo (Repeat every 2:30) * 8x Each Side - Goblet Lateral Lunge * 8x Each Arm - Hollow Hold Neutral Grip Chest Press * 8x Each Leg - Single Leg Bridge  * Start with the TRX high rows, repeat all other exercises until time is called, but pause where you're at every 2.5 minutes to do more high rows.  **Block 2 (14 minutes)**  * 10x - Alternating Single Arm Snatch (Repeat every 2:30) * 8x Each Side - Swing Lunge with Rotation (forward and back = 1 rep) * 8x Each Arm - Half Kneeling Single Arm Shoulder Press * 8x Each Arm - High Plank Single Arm Low Row  * Start with the snatches, repeat all other exercises until time is called, but pause where you're at every 2.5 minutes to do more snatches.  **Block 3 (2.5 minutes?)**  * 10/8/6/4/2 - Sit Ups * 10/8/6/4/2 - Low Plank to Pike  * If you complete all rounds, there was some kind of core finisher until time is called. Maybe hollow hold?\",\n",
       " 'Floor Side Block 1 -  6:30 Neutral Grip Chest Press (Slow) - 8 Power Push-up (Explosive) - 8 TRX Roll Out - 12   Rower Side Block 1 -  6:30 Goblet Squat (Slow) - 8 Squat Jump (Explosive) - 8  Mountain Climber - 12 total   Floor Side Block 2 - 6:30 Upright Row (Slow) - 10 Shoulder Press (Explosive) - 10  Seated (bench) Torso Rotation - 12 total   Rower Side Block 2 - 6:30 S/A Split Squat - 5 each  Reverse Lunge Hop/Jump (??) - 5 each  Forearm Plank Hip Dip - 12 total   Finisher - 2:15 Squat to hammer curl to overhead thruster - 1 minute  Rest - 10 seconds  Squat to hammer curl - 45 seconds  Rest - 10 seconds  Squat - 30 seconds   Let me know if I got anything wrong!',\n",
       " 'Hi! Right now I am only doing Lift 45 classes because of a horrible spat of plantar fasciitis. Ive been going to different studios in the area because there just arent that many lift classes on my home studios schedule but have experienced doing the same class template on different days. How many templates does OTF put out for Lift 45 classes? Is it unhelpful to do the same template two days in a row?',\n",
       " 'Anyone heard anything about changes to the Lift45 classes coming up? Our coach tonight hinted that changes were coming soon and mentioned that it might not even be called Lift45 anymore.',\n",
       " 'Endurance focused Lift 45  Block 1 - 3:30     All together - using med ball     30 second split squat hold (R) w rainbow     30 second split squat hold (L) w alt halo     15 second rest     Complete 3 Rounds       Block 2 - 11:30 each side   Floor Side      20 total reciprocating chest press     10 each side full lateral step up to knee raise     10 each runners lunge w dynamic internal rotation      Rower Side     10 each split stance S/A low row     10 each S/A reverse lunge     10 each S/L downdog to S/L knee drive       Block 3 - 3:30     All together - using med ball     20 second sit up w power toss     20 second S/L v-up (R)     20 second S/L v-up (L)     15 second rest     Complete 3 Rounds.',\n",
       " '**Warmup  5 min.**    **Floor 1  13.5 min.**     All with weights     Rep count: 4/6/8/10      -Push-up w/alt. low row     -Squat     -Clean     -Neutral grip push press       **Rower 1  13.5 min.**      Rep count: 6      -Alt. chest press w/leg extension     -Alt. lateral lunge     -Split stance low row     -Single arm deadlift       **Finisher  3:40**     All 20 seconds     3 rounds (20-second rest after first 2 rounds)      -Crunch hold with scissors     -Crunch hold     -Double crunch      Let me know any errors you catch, and Ill edit. :) Happy lifting!',\n",
       " 'Who misses when the classes were broken down by muscle groups (upper, lower, total body)? I like lift but I wish it were back to the original schedule so Id know what Im getting. How do we provide feedback beyond our studio?']"
      ]
     },
     "execution_count": 62,
     "metadata": {},
     "output_type": "execute_result"
    }
   ],
   "source": [
    "post_bodies"
   ]
  },
  {
   "cell_type": "code",
   "execution_count": 65,
   "id": "1baf7745",
   "metadata": {},
   "outputs": [
    {
     "name": "stdout",
     "output_type": "stream",
     "text": [
      "0 The social media post mentions a challenging Lift45 class at Orangetheory, with various exercises including bench low row, TRX pull-ups, clean to front squat, split stance pulse squats, S/A chest press, TRX tricep extensions, alternating 90 degree pop squats, and split stance deadlifts. The post also includes a finisher with low plank knee drives and bicycle crunches. The sentiment of the post is positive, with the author expressing excitement about choosing challenging weights. \n",
      "\n",
      "1 The reviewer is new to Orangetheory and is unsure about the Lift45 templates. They mention the exercises and reps for a 30-minute block, followed by three core exercises and a 3-minute finisher. The reviewer enjoyed the workout, particularly the 30-minute block for lifting heavy weights at a slower pace. \n",
      "\n",
      "2 The social media post provides a detailed breakdown of the Lift45 course offered by Orangetheory. It includes exercises for both the floor and tread sides, with slow and controlled movements. The post also mentions a finisher consisting of two rounds of sprinter sit-ups, wide mountain climbers with power, and a rest period. No customer sentiment, compliments, criticisms, or feedback are mentioned in the post. \n",
      "\n",
      "3 The reviewer is a female in her mid-20s who has been taking Lift45 classes at Orangetheory. She has been enjoying the classes and is dedicated to her fitness goals of losing fat and building muscle. She is unsure whether to focus on the classic 2g classes and incorporate Lift45 a couple of days a week or to incorporate more Lift classes. She is aiming for around 5-6 classes a week and wants to be efficient with her plan. \n",
      "\n",
      "4 The reviewer is excited about the addition of Lift45 to their Orangetheory studio's lineup. They prefer lifting/resistance training over treadmills. They are considering signing up for both a normal class and a lift class back to back and are seeking advice on whether this is normal. \n",
      "\n",
      "5 The social media post provides a detailed description of the Lift45 course offered by Orangetheory. The post mentions two 14-minute main blocks with repeating exercises every 2.5 minutes. The reviewer appreciates the structure of the workout but notes that some details are missing. No specific compliments or criticisms are mentioned. \n",
      "\n",
      "6 The social media post provides a detailed breakdown of the exercises in the Lift45 course offered by Orangetheory. The post asks for confirmation if the information is accurate, suggesting that the individual is seeking feedback or clarification. No specific customer sentiment, compliments, criticisms, or feedback about the course are mentioned in the post. \n",
      "\n",
      "7 The customer is currently only doing Lift45 classes due to plantar fasciitis. They have been going to different studios because their home studio has limited Lift45 classes. They are wondering how many templates OTF has for Lift45 classes and if it is unhelpful to do the same template two days in a row. \n",
      "\n",
      "8 Members are curious about potential changes to the Lift45 classes at Orangetheory. The coach hinted at upcoming changes and suggested that the class might be renamed. \n",
      "\n",
      "9 The social media post describes the Lift45 course offered by Orangetheory. The post includes details about the exercises and rounds in each block of the course. No specific customer sentiment, compliments, criticisms, or feedback about the course are mentioned in the post. \n",
      "\n",
      "10 The social media post provides a breakdown of the Lift45 course offered by Orangetheory. The post includes details about the warm-up, floor exercises, rower exercises, and the finisher. The post also invites readers to point out any errors. Overall, the sentiment seems positive, with the author expressing excitement about the workout. \n",
      "\n",
      "11 The customer misses the original schedule of Lift45 classes that were broken down by muscle groups. They enjoy the Lift45 course but wish they knew what to expect. They also express a desire to provide feedback beyond their studio. \n",
      "\n"
     ]
    }
   ],
   "source": [
    "for i in range(len(post_bodies)):\n",
    "    prompt = f\"\"\"\n",
    "    Your role is to provide relevant information from a social media post about the course Lift45, which is \\\n",
    "    offered by the fitness company Orangetheory. Orangetheory is sometimes referred to as OTF. \n",
    "\n",
    "    Summarize the review below, delimited by triple backticks, in at most 50 words. Focus on the customer \\\n",
    "    sentiment about the course Lift45 and any compliments, criticisms, and feedback members have.\n",
    "\n",
    "    Social Media Post: ```{post_bodies[i]}```\n",
    "    \"\"\"\n",
    "\n",
    "    response = get_completion(prompt)\n",
    "    print(i, response, \"\\n\")\n",
    "    \n",
    "    time.sleep(20)"
   ]
  },
  {
   "cell_type": "code",
   "execution_count": 103,
   "id": "d1c4faac",
   "metadata": {},
   "outputs": [],
   "source": [
    "test_posts = posts[:5]"
   ]
  },
  {
   "cell_type": "code",
   "execution_count": 108,
   "id": "1a2e3a1c",
   "metadata": {},
   "outputs": [
    {
     "name": "stdout",
     "output_type": "stream",
     "text": [
      "0 Irrelevant feedback. \n",
      "\n",
      "1 {\n",
      "  \"date\": \"2023-07-19\",\n",
      "  \"title\": \"Re: 7/17/23 Lift 45 Total Body 3\",\n",
      "  \"source\": \"Reddit\",\n",
      "  \"author\": \"Otherwise_Nature_506\",\n",
      "  \"sentiment\": \"Positive\",\n",
      "  \"category\": \"Other\",\n",
      "  \"summary\": \"The author expresses excitement and gratitude for the Lift45 class, with a minor mention of pop squats.\",\n",
      "  \"text\": \"Except for those pop squats, this looks like a great class. Thank you for sharing. Im looking forward to this tomorrow.\"\n",
      "} \n",
      "\n",
      "2 {\n",
      "  \"date\": \"2023-07-19\",\n",
      "  \"title\": \"Re: 7/17/23 Lift 45 Total Body 3\",\n",
      "  \"source\": \"Reddit\",\n",
      "  \"author\": \"mother_of_rags\",\n",
      "  \"sentiment\": \"positive\",\n",
      "  \"category\": \"Other\",\n",
      "  \"summary\": \"The author had a positive sentiment about Lift45, mentioning that it was great except for the pop squats.\",\n",
      "  \"text\": \"Did this one earlier today, and yes can attest, aside from the pop squats it was great!\"\n",
      "} \n",
      "\n",
      "3 Irrelevant feedback. \n",
      "\n",
      "4 {\n",
      "  \"date\": \"2023-07-19\",\n",
      "  \"title\": \"Re: 7/17/23 Lift 45 Total Body 3\",\n",
      "  \"source\": \"Reddit\",\n",
      "  \"author\": \"Ok-Championship-6045\",\n",
      "  \"sentiment\": \"Positive\",\n",
      "  \"category\": \"Irrelevant feedback\",\n",
      "  \"summary\": \"Irrelevant feedback\",\n",
      "  \"text\": \"Thanks for the intel - this looks great!\"\n",
      "} \n",
      "\n"
     ]
    }
   ],
   "source": [
    "json_objects = []\n",
    "\n",
    "for i in range(len(test_posts)):\n",
    "    prompt = f\"\"\"\n",
    "    Your role is to summarize relevant customer sentiment information from a social media post or comment about \\\n",
    "    the course Lift45, which is offered by the fitness company Orangetheory. Orangetheory is sometimes referred \\\n",
    "    to as OTF. \n",
    "\n",
    "    The social media post or comment of interest is delimited by 3 backticks. \n",
    "\n",
    "\n",
    "    date: #{posts[i]['date']}#\n",
    "\n",
    "    title: ##{posts[i]['title']}##\n",
    "\n",
    "    source: 'Reddit'\n",
    "\n",
    "    author: ###{posts[i]['author']}###\n",
    "\n",
    "    sentiment: Determine whether the post/comment has a positive, neutural, or negative customer sentiment. \\\n",
    "    Use 1 word only.\n",
    "\n",
    "    category: Determine the area that the author is providing feedback about, including 'Template', \\\n",
    "    'Intensity', 'Time Allocation', 'Instruction', 'Class Size', or 'Other'. Categorize as one of the 6 categories \\\n",
    "    only.\n",
    "\n",
    "    summary: Provide a 1 sentence summary on customer sentiment and relevant compliments, criticisms, \\\n",
    "    and feedback about Lift45. \n",
    "\n",
    "    text: Only extract text that is about customer sentiment and/or compliments, criticisms, \\\n",
    "    and feedback about Lift45. Do not extract any other texts.\n",
    "\n",
    "    Step 10: If the post DOES NOT include any specific customer sentiment, compliments, criticisms, or \\\n",
    "    feedback about Lift45, simply respond with \"Irrelevant feedback\". Otherwise, provide the following \\\n",
    "    information in a JSON format: date, title, source, author, sentiment, category, summary, and text.\n",
    "\n",
    "    Social Media Post: ```{posts[i]['body']}```\n",
    "    \"\"\"\n",
    "\n",
    "    response = get_completion(prompt)\n",
    "    print(i, response, \"\\n\")\n",
    "    \n",
    "    if response.strip() != 'Irrelevant feedback.':\n",
    "        # Load the response string as a dictionary and add to the list\n",
    "        json_objects.append(json.loads(response))\n",
    "\n",
    "    time.sleep(20)"
   ]
  }
 ],
 "metadata": {
  "kernelspec": {
   "display_name": "Python 3 (ipykernel)",
   "language": "python",
   "name": "python3"
  },
  "language_info": {
   "codemirror_mode": {
    "name": "ipython",
    "version": 3
   },
   "file_extension": ".py",
   "mimetype": "text/x-python",
   "name": "python",
   "nbconvert_exporter": "python",
   "pygments_lexer": "ipython3",
   "version": "3.10.12"
  }
 },
 "nbformat": 4,
 "nbformat_minor": 5
}
