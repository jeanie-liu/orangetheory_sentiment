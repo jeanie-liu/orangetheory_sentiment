{
 "cells": [
  {
   "cell_type": "markdown",
   "id": "14981427",
   "metadata": {},
   "source": [
    "# Analyzing Orangetheory's Customer Sentiment on Lift45 and HR Metrics"
   ]
  },
  {
   "cell_type": "markdown",
   "id": "42dd3eda",
   "metadata": {},
   "source": [
    "## Setup for Extracting Reddit posts and comments"
   ]
  },
  {
   "cell_type": "markdown",
   "id": "e0f05f8e",
   "metadata": {},
   "source": [
    "### Importing relevant packages"
   ]
  },
  {
   "cell_type": "code",
   "execution_count": 1,
   "id": "e929a954",
   "metadata": {},
   "outputs": [],
   "source": [
    "import praw\n",
    "import time\n",
    "import json\n",
    "from datetime import datetime, timedelta\n",
    "import codecs\n",
    "import os\n",
    "from dotenv import load_dotenv"
   ]
  },
  {
   "cell_type": "markdown",
   "id": "35f637d9",
   "metadata": {},
   "source": [
    "### Initializing a Reddit object and defining the subreddit"
   ]
  },
  {
   "cell_type": "code",
   "execution_count": 2,
   "id": "e7f04c8c",
   "metadata": {},
   "outputs": [],
   "source": [
    "load_dotenv()\n",
    "\n",
    "reddit = praw.Reddit(\n",
    "   client_id=os.getenv(\"REDDIT_CLIENT_ID\"),\n",
    "   client_secret=os.getenv(\"REDDIT_CLIENT_SECRET\"),\n",
    "   user_agent=os.getenv(\"REDDIT_USER_AGENT\"),\n",
    "   username=os.getenv(\"REDDIT_USERNAME\"),\n",
    "   password=os.getenv(\"REDDIT_PASSWORD\")\n",
    ")\n",
    "\n",
    "subreddit = reddit.subreddit(\"orangetheory\")"
   ]
  },
  {
   "cell_type": "markdown",
   "id": "47d97357",
   "metadata": {},
   "source": [
    "## Fetching all Reddit posts, comments, and replies about Lift45 from last week"
   ]
  },
  {
   "cell_type": "code",
   "execution_count": 43,
   "id": "fcbf0cdb",
   "metadata": {},
   "outputs": [],
   "source": [
    "keywords = ['lift45', 'lift 45']\n",
    "one_week_ago = int(time.time()) - 7 * 24 * 60 * 60"
   ]
  },
  {
   "cell_type": "code",
   "execution_count": 44,
   "id": "56134e63",
   "metadata": {
    "scrolled": true
   },
   "outputs": [
    {
     "name": "stderr",
     "output_type": "stream",
     "text": [
      "/var/folders/nl/4h1npm454flgnps4vlz6y_700000gn/T/ipykernel_54082/3147963917.py:3: DeprecationWarning: invalid escape sequence '\\~'\n",
      "  decoded_comment = codecs.unicode_escape_decode(comment.body)[0]\n"
     ]
    }
   ],
   "source": [
    "def fetch_comments(comment, posts):\n",
    "    # Add comment to posts\n",
    "    decoded_comment = codecs.unicode_escape_decode(comment.body)[0]\n",
    "    clean_comment = decoded_comment.replace('’', \"'\")\n",
    "    clean_comment = clean_comment.encode('ascii', 'ignore').decode()\n",
    "    \n",
    "    posts.append({\n",
    "        'date': datetime.utcfromtimestamp(comment.created_utc).strftime('%Y-%m-%d'),\n",
    "        'author': comment.author.name if comment.author else 'Deleted',\n",
    "        'title': f'Re: {post.title}',\n",
    "        'body': clean_comment.replace('\\n', ' ').replace('\\t', ' ').replace('\\r', ' ')\n",
    "    })\n",
    "\n",
    "    # Process replies to the comment\n",
    "    for reply in comment.replies:\n",
    "        fetch_comments(reply, posts)\n",
    "\n",
    "posts = []\n",
    "\n",
    "for post in subreddit.new(limit = 1000):\n",
    "    if any(keyword in post.title.lower() for keyword in keywords):\n",
    "        if post.created_utc >= one_week_ago:\n",
    "            decoded_text = codecs.unicode_escape_decode(post.selftext)[0]\n",
    "            clean_text = decoded_text.replace('’', \"'\")\n",
    "            clean_text = clean_text.encode('ascii', 'ignore').decode()\n",
    "            \n",
    "            posts.append({\n",
    "                'date': datetime.utcfromtimestamp(post.created_utc).strftime('%Y-%m-%d'),\n",
    "                'author': post.author.name if post.author else 'Deleted',\n",
    "                'title': post.title,\n",
    "                'body': clean_text.replace('\\n', ' ').replace('\\t', ' ').replace('\\r', ' ')\n",
    "            })\n",
    "            \n",
    "            for comment in post.comments:\n",
    "                fetch_comments(comment, posts)"
   ]
  },
  {
   "cell_type": "code",
   "execution_count": 45,
   "id": "bb286f25",
   "metadata": {},
   "outputs": [
    {
     "data": {
      "text/plain": [
       "81"
      ]
     },
     "execution_count": 45,
     "metadata": {},
     "output_type": "execute_result"
    }
   ],
   "source": [
    "len(posts)"
   ]
  },
  {
   "cell_type": "code",
   "execution_count": 48,
   "id": "08f141b1",
   "metadata": {},
   "outputs": [
    {
     "data": {
      "text/plain": [
       "{'date': '2023-07-22',\n",
       " 'author': 'moonrivervoyages',\n",
       " 'title': 'Regular class into Lift45 in place of a 90 minute?',\n",
       " 'body': 'The studio I go to each Saturday for their 90 minute class has taken them off the schedule. My home studio has a regular 7 am class and then a Lift45 at 8:15. Have any of you ever tried doing this? I feel like it would be doable because I am used to doing a 90 once a week but wanted to know what others think!'}"
      ]
     },
     "execution_count": 48,
     "metadata": {},
     "output_type": "execute_result"
    }
   ],
   "source": [
    "posts[0]"
   ]
  },
  {
   "cell_type": "markdown",
   "id": "e613f6af-ce1c-49ea-ae99-0d2e3fa3fae1",
   "metadata": {},
   "source": [
    "## ChatGPT API Setup\n",
    "### Load the API key and relevant Python libaries.\n",
    "In this course, we've provided some code that loads the OpenAI API key for you."
   ]
  },
  {
   "cell_type": "code",
   "execution_count": 7,
   "id": "3503ba12",
   "metadata": {},
   "outputs": [],
   "source": [
    "import os\n",
    "import openai\n",
    "import sys\n",
    "from dotenv import load_dotenv, find_dotenv\n",
    "_ = load_dotenv(find_dotenv())\n",
    "\n",
    "openai.api_key  = os.environ['OPENAI_API_KEY']"
   ]
  },
  {
   "cell_type": "code",
   "execution_count": 8,
   "id": "1aefb2d4",
   "metadata": {},
   "outputs": [],
   "source": [
    "def get_completion(prompt, model=\"gpt-3.5-turbo\"):\n",
    "    messages = [{\"role\": \"user\", \"content\": prompt}]\n",
    "    response = openai.ChatCompletion.create(\n",
    "        model=model,\n",
    "        messages=messages,\n",
    "        temperature=0, # this is the degree of randomness of the model's output\n",
    "    )\n",
    "    return response.choices[0].message[\"content\"]"
   ]
  },
  {
   "cell_type": "markdown",
   "id": "235a1133",
   "metadata": {},
   "source": [
    "## Determine categories of feedback based on last week's posts and comments"
   ]
  },
  {
   "cell_type": "code",
   "execution_count": 46,
   "id": "491a15df",
   "metadata": {},
   "outputs": [],
   "source": [
    "# Combine all post bodies into one string\n",
    "all_posts = \" ###END_OF_COMMENT### \".join([post['body'] for post in posts])"
   ]
  },
  {
   "cell_type": "code",
   "execution_count": 47,
   "id": "2619a1c4",
   "metadata": {},
   "outputs": [
    {
     "data": {
      "text/plain": [
       "'The studio I go to each Saturday for their 90 minute class has taken them off the schedule. My home studio has a regular 7 am class and then a Lift45 at 8:15. Have any of you ever tried doing this? I feel like it would be doable because I am used to doing a 90 once a week but wanted to know what others think! ###END_OF_COMMENT### I prefer to do the Lift45 before the regular 60. But yes its doable. ###END_OF_COMMENT### Oooo yes smart idea however that isn\\'t an option for me because of my work schedule! ###END_OF_COMMENT### Just know if you have a limited number of classes going the Lift + 60 will count as two classes and doing the 90 only counts as one. ###END_OF_COMMENT### Thank you so much! Good to know! ###END_OF_COMMENT### I found some information that could be relevant to your question or topic.      Take a look at [previous conversations about pairing Lift 45 with a regular class](https://www.google.com/search?q=regular+60+lift45+site:reddit.com/r/orangetheory)      _This is an automated reply. If you would like to provide feedback, [please contact the moderators](https://www.reddit.com/message/compose/?to=/r/orangetheory)._ ###END_OF_COMMENT### I do it at least twice a week. Just bring a small snack for the quick break in-between and you\\'re good to go ###END_OF_COMMENT### Oh awesome! Thank you! What are your fav between class snacks? ###END_OF_COMMENT### I love Aussie bites, protein bars or cashew clusters, all from Costco  ###END_OF_COMMENT### You can do both, its not like your taking away someone elses chance to do the workout. I wouldnt do two regular classes back to back. ###END_OF_COMMENT### Thank you! ###END_OF_COMMENT### On Saturday, our class after Lift is typically ran as a 3g. So Ill do lift and then tread and rower in the 3g. Sometimes Ill stay for the floor, just depends how tough the lift class was. Either way, definitely doable! ###END_OF_COMMENT### I do this every Sunday too! I like the cardio between lifting. ###END_OF_COMMENT### Thanks a million! ###END_OF_COMMENT### I do this every Sunday!  I like the 60 min first followed by the lift45.  I love it! ###END_OF_COMMENT### Yay good to know! That\\'s what I will be doing! ###END_OF_COMMENT### I am a new OT client and I love it! I am also a nasm certified trainer etc just putting that here because its relevant. My suggestion is do the cardio first (regular class) and then the lift for fat loss. If you arent trying to lose weight and stay strong, lift first. just my opinion (: 100% doable if you have been doing the classes because they are not easy!! (: ###END_OF_COMMENT### Thank you so much! Great to hear from a trainer! ###END_OF_COMMENT### Yep, I do it regularly on Saturday when I cant get to a 90.  But, it also forces me into an active rest day on Sunday. ###END_OF_COMMENT### Thank you!! Sunday rest days are the best. ###END_OF_COMMENT### Technically, 60 min + Lift45 has \\\\~20-25 min break in between plus 5 min warm-up so very doable, although I prefer a 90 min because of continuity. ###END_OF_COMMENT### Thank you! ###END_OF_COMMENT### I usually do a 2G followed by lift once a week. I always take the day off from Orangetheory the next day, though - so if the next day is a benchmark or specialty class I really want to do, Ill just do the lift. ###END_OF_COMMENT### Smart to take a break! Thanks for the input! ###END_OF_COMMENT### Yes! Just did this today  ###END_OF_COMMENT### I didn\\'t see it posted yet. I think I remembered everything. Good day to choose some challenging weights!   Warmup: the usual   Block 1: 6:30.  Bench low row (explosive) - 8 reps each side  TRX Pull Ups - 8 reps  Block 2: 6:30 Clean to front squat - 8 reps   Split stance pulse squats - 8 reps each side   Block 3: 6:30 S/A chest press (explosive) - 8 reps each side  TRX tricep extensions -8 reps  Block 4: 6:30 Alternating 90 degree pop squats - 8 total Split stance deadlifts- 8 reps each side   Finisher - 2 rounds  30 second low plank knee drives 30 second bicycle crunch 15 second rest ###END_OF_COMMENT### Except for those pop squats, this looks like a great class. Thank you for sharing. Im looking forward to this tomorrow. ###END_OF_COMMENT### Did this one earlier today, and yes can attest, aside from the pop squats it was great! ###END_OF_COMMENT### Thank you!  I have this one in 3 hours ###END_OF_COMMENT### Thanks for the intel - this looks great! ###END_OF_COMMENT### Thank you, looks like a good one! ###END_OF_COMMENT### Thank you! ###END_OF_COMMENT### Thank you!! Excited to do this one tomorrow ###END_OF_COMMENT### I did TB2 today and loved it that I put myself on the WL for tomorrow, however, after reading this I think Ill keep my TB3 for tomorrow (I have TB2 on Friday again anyway) looks awesome, thanks for the intel. ###END_OF_COMMENT### Ive never been to lift 45 and Ive been out of otf for 3 months. Am I going to die? ###END_OF_COMMENT### Nope. Just lift a little lighter, go at your own pace, take rests when you need them, pay attention to form rather than rushing through, and modify when needed. (I should  pay more attention to my own advice, haha). I did lift after long breaks, and didnt die. I found it better for reintroduction than regular classes. ###END_OF_COMMENT### It started off a little chaotic but I think I liked it. I am kind of dead but not like after a regular class ###END_OF_COMMENT### Welcome back! ###END_OF_COMMENT### Just did this! Was a great class but Im pooped! ###END_OF_COMMENT### that sounds brutal ###END_OF_COMMENT### TRX tricep extensions are my fave!!! Looking forward to this tomorrow. ###END_OF_COMMENT### Love this template except for the pop squats. Guess Ill be doing split stance deadlifts for 6:30 mins  ###END_OF_COMMENT### Yes. My knees were like \"you know we\\'re 40 now, right? Why do you hate us?\" ###END_OF_COMMENT### Thank you for sharing!!!! ###END_OF_COMMENT### Havent seen this one posted yet and Im newer to OT so Im still not sure exactly how the Lift45 templates cycle through. Also apologies as I may screw up some of these exercise names lol  30 Min Block:  Each exercise was 6/8/10/12 reps, 4 rounds total. Also working unilaterally so 6 reps R, 6 reps L each exercise then up the reps.  DB Squat R/L DB Shoulder press R/L DB Lateral lunge R/L DB Standing one arm row R/L DB Single arm dumbbell swing R/L DB Bridge w/ single arm chest press R/L  If you made it through the 4 rounds then you moved on to three core exercises. Cant remember the first two because I didnt make it that far but the third was crunches  3 Min Finisher:   8/10/12 Jump squats 8/10/12 Push ups  If you made it through those three rounds then you held a plank until time was called.  I really liked this one overall! I enjoyed the 30 min block because it made it easier to go slow and lift heavy. ###END_OF_COMMENT### Oh I like this! I imagine the 30 minute block allows the coach to stress less about the template and they can move around watching everyones form. ###END_OF_COMMENT### 100%! The coach was definitely moving around correcting a bunch ###END_OF_COMMENT### Did this after 6am normal class today and really liked it a lot. Went unlimited with my membership a few weeks ago and have been trying to incorporate Lift 45 more, just tough because the times don\\'t work super well with my schedule or the waitlists are so long.  &#x200B;  Kept it slow and was able to use the same DB for all 4 rounds! ###END_OF_COMMENT### Yoooo this template KICKED MY A$$!!! I got 24 splats and I never go for splats in a Lift, I usually stay in green!  Edit: For the finisher, we did squat jacks instead of jump squats. ###END_OF_COMMENT### I literally told my coach after class that template was an ass-kicker! Ive never gotten so many Lift splats ever! I know DCs system doesnt apply to Lift, but if it did, this would be a  for me. ###END_OF_COMMENT### Same! It was definitely for me too! ###END_OF_COMMENT### The other 2 core workouts were low plank squat jacks and back extensions ###END_OF_COMMENT### This was a great one!!  Thanks for the intel.  One of the core exercises was plank jacks ###END_OF_COMMENT### Just finished this Lift45 class and loved this old school type workout. Wish they would offer more of this kind of training with very minimal switching and 3-6 minute blocks ?  Was able to go heavy and take my time. ###END_OF_COMMENT### This is great, thank you! ###END_OF_COMMENT### Looks great!  Love the 30 minute block so we can just go to work. Thanks for sharing! ###END_OF_COMMENT### Thank you!  The way my attention span is set up, Im switching to a regular classlooks good though.. ###END_OF_COMMENT### I have a short attention span too but really enjoyed this! I think because there were so many moves to cycle through ###END_OF_COMMENT### Um...what is\"DB\"? ###END_OF_COMMENT### Dumbbell ###END_OF_COMMENT### Thank you! Taking this tomorrow and wanted to see if I could manage so sore from todays 2G ###END_OF_COMMENT### I think you definitely can! You could even go lighter weight and just do a lot of focus on form ###END_OF_COMMENT### Thank you for sharing! Taking this one Wednesday. ###END_OF_COMMENT### Thank you! ###END_OF_COMMENT### This was SO MUCH FUN! Solid burn without feeling completely fatigued. Sweat my butt off. Im tempted to take it again on Saturday, LOL! ###END_OF_COMMENT### Block 1 - Floor Side - 6 min * 8 DB Front Squat, Slow * 8 DB Reverse Grip Low Row, Slow  Block 1 - Tread Side - 6 min * 8 DB Transverse Goblet Squat, Slow * 8 DB Standing Rainbow, Slow  Block 2 - Floor - 6 min * 8 Each DB SL Deadlift, Slow * 8 DB Upper Cut, Slow  Block 2 - Tread Side - 6 min * 8 DB Hip Bridge, Slow * 8 DB Kneeling Tall Tricep Extension, Slow  Finisher * 2 Rounds:  - 30 Sec Sprinter Sit-Ups - 30 Sec Wide Mountain Climbers with Power - 30 Sec Rest ###END_OF_COMMENT### Yeesh the past couple of classes have been real lifting templates and I\\'m here for it  ###END_OF_COMMENT### One of the templates 2 weeks ago had 1 exercise per 3:45min block and I didnt know what to do with myself I was so happy! ###END_OF_COMMENT### Looks like the theme for this template is slow. Cannot wait for my muscles to protest ###END_OF_COMMENT### Just finished this one up- it was a dream Lift class.  Wish more were like this. ###END_OF_COMMENT### This was a good one. I got 12 splats and stayed in green mostly! ###END_OF_COMMENT### Tred/row side block 1 is a transverse goblet. Not a lateral.   Lateral kills me. lol I was thankful for the transverse. ###END_OF_COMMENT### Yay  walking out the door to this right nowthank you so much! ###END_OF_COMMENT### This looks great! So excited for tomorrow ###END_OF_COMMENT### Looks like a really good one.thanks! ###END_OF_COMMENT### This was my first lift class and I loved it! ###END_OF_COMMENT### Thank you!! ###END_OF_COMMENT### What is a good replacement for hip bridge? I don\\'t get much out of them even with 50 lbs and I\\'m not trying to use any more than that. Also, I feel like I\\'ve done them 3 times in the last week. ###END_OF_COMMENT### A coach recently said to take them really slow and instead of adding weight, doing it single leg ###END_OF_COMMENT### I did mine with 80 the other week and I felt that for days so maybe try even heavier? I was the same as you and didnt feel much with 50-60. I also like the other suggestion of one leg ###END_OF_COMMENT### My coach has me add a mini band on my thighs, youll definitely feel a burn!'"
      ]
     },
     "execution_count": 47,
     "metadata": {},
     "output_type": "execute_result"
    }
   ],
   "source": [
    "all_posts"
   ]
  },
  {
   "cell_type": "code",
   "execution_count": 56,
   "id": "5e5d1a67",
   "metadata": {
    "scrolled": true
   },
   "outputs": [
    {
     "name": "stdout",
     "output_type": "stream",
     "text": [
      "Positive topics:\n",
      "1. Lift45 + Regular Class: Customers express that it is doable and enjoyable to pair Lift45 with a regular 60-minute class. They appreciate the opportunity to do both workouts and find it beneficial for their fitness goals.\n",
      "2. Cardio Between Lifting: Customers mention that they enjoy the cardio exercises between lifting sets during Lift45. They find it effective and enjoyable for their workout.\n",
      "3. Trainer's Opinion: Customers appreciate hearing from a NASM certified trainer who suggests doing the regular class before Lift45 for fat loss and vice versa for strength. They value the professional advice and find it helpful in planning their workouts.\n",
      "4. Challenging Templates: Customers express their excitement and satisfaction with the challenging Lift45 templates. They appreciate the opportunity to lift heavy and feel the burn during the workout.\n",
      "5. Slow and Heavy: Customers enjoy Lift45 templates that emphasize slow and heavy lifting. They find it effective and enjoyable for their workout.\n",
      "\n",
      "Negative topics:\n",
      "1. Limited Class Availability: Customers mention that the schedule for Lift45 classes does not always align with their availability. They express frustration with long waitlists and difficulty incorporating Lift45 into their schedule.\n",
      "2. Pop Squats: Customers express dislike for the pop squats exercise in the Lift45 template. They find it challenging and uncomfortable for their knees.\n",
      "3. Lack of Continuity: Some customers mention that they prefer a 90-minute class over Lift45 because of the continuity it offers. They feel that the breaks between exercises in Lift45 disrupt the flow of their workout.\n",
      "4. Overuse of Hip Bridge: Customers mention that they have done hip bridge exercises multiple times in a short period and express a desire for more variety in the Lift45 templates.\n",
      "5. Chaotic Start: One customer mentions that their Lift45 class started off chaotic, but they still enjoyed it. This comment suggests that the organization or structure of the class could be improved.\n"
     ]
    }
   ],
   "source": [
    "prompt = f\"\"\"\n",
    "Your role is to analyze and summarize the main topics of customer sentiment and feedback about the Lift45 \\\n",
    "course from a series of social media posts and comments. Lift45 is a course offered by the fitness company \\\n",
    "Orangetheory, sometimes referred to as OTF. \n",
    "\n",
    "You are presented with a compilation of these posts and comments, delimited by triple backticks. \n",
    "\n",
    "Analyze the text and identify the top topics that customers are positively and negatively commenting on. \\\n",
    "Focus only on the specific compliments, criticisms, and feedback about Lift45. Ignore any unrelated comments. \\\n",
    "* Use at most 4 words as the topic name and give a brief explanation of each. \n",
    "* Do not use snacks as one of the topics. \n",
    "* Give me 5 positive topics and 5 negative topics.\n",
    "\n",
    "Social Media Posts: ```{all_posts}```\n",
    "\"\"\"\n",
    "\n",
    "response = get_completion(prompt)\n",
    "print(response)"
   ]
  },
  {
   "cell_type": "markdown",
   "id": "013b2be1",
   "metadata": {},
   "source": [
    "### Original list of 10 categories\n",
    "1. **pairing with regulars**: Customers express that it is doable and enjoyable to pair Lift45 with a regular 60-minute class. They appreciate the opportunity to do both workouts and find it beneficial for their fitness goals.\n",
    "\n",
    "2. **cardio**: Customers mention that they enjoy the cardio exercises between lifting sets during Lift45. They find it effective and enjoyable for their workout.\n",
    "\n",
    "3. **coaching**: Customers appreciate the coaches moving around and correcting form during the class. Customers appreciate hearing from a NASM certified trainer who suggests doing the regular class before Lift45 for fat loss and vice versa for strength. They value the professional advice and find it helpful in planning their workouts.\n",
    "\n",
    "4. **intensity**: Customers express their excitement and satisfaction with the challenging Lift45 templates. They appreciate the opportunity to lift heavy and feel the burn during the workout.\n",
    "\n",
    "5. **slow lifting**: Customers enjoy Lift45 templates that emphasize slow and heavy lifting. They find it effective and enjoyable for their workout.\n",
    "\n",
    "6. **longer blocks**: Customers like the longer blocks and minimal switching between exercises, as it allows them to focus and go at their own pace.\n",
    "\n",
    "7. **limited availability**: Customers mention that the schedule for Lift45 classes does not always align with their availability. They express frustration with long waitlists and difficulty incorporating Lift45 into their schedule.\n",
    "\n",
    "8. **exercise dislikes**: Customers express dislike for certain exercises such as the pop squats in the Lift45 template. They find it challenging and uncomfortable for their knees.\n",
    "\n",
    "9. **repetitive templates**: Customers express a desire for more variety in the Lift45 templates. For example, they have done hip bridge exercises multiple times in a short period.\n",
    "\n",
    "10. **lacking continuity**: Some customers mention that they prefer a 90-minute class over Lift45 because of the continuity it offers. They feel that the breaks between exercises in Lift45 disrupt the flow of their workout."
   ]
  },
  {
   "cell_type": "markdown",
   "id": "b174a2d1",
   "metadata": {},
   "source": [
    "### Narrowing down categories that are too similar:\n",
    "\n",
    "**exercise content**\n",
    "* repetitive exercise and dislikes: Customers express a desire for more variety in the Lift45 templates. For example, they have done hip bridge exercises multiple times in a short period. Customers also express dislike for certain exercises. For example, they find the pop squats challenging and uncomfortable for their knees.\n",
    "* cardio: Customers mention that they enjoy the cardio exercises between lifting sets during Lift45. They find it effective and enjoyable for their workout.\n",
    "* intensity: Customers express their excitement and satisfaction with the challenging Lift45 templates. They appreciate the opportunity to lift heavy and feel the burn during the workout.\n",
    "* longer blocks: Customers like the longer blocks and minimal switching between exercises, as it allows them to focus and go at their own pace. Customers enjoy Lift45 templates that emphasize slow and heavy lifting. They find it effective and enjoyable for their workout.\n",
    "* lacking continuity: Some customers mention that they prefer a 90-minute class over Lift45 because of the continuity it offers. They feel that the breaks between exercises in Lift45 disrupt the flow of their workout.\n",
    "\n",
    "**course relationship**\n",
    "* How should a customer choose what classes to take and in what order. Some courses that are offered include Lift45, regular classes which are 60 minutes, and 90-minute classes.\n",
    "\n",
    "**course availability**\n",
    "* Customers mention that the schedule for Lift45 classes does not always align with their availability. They express frustration with long waitlists and difficulty incorporating Lift45 into their schedule.\n",
    "    \n",
    "**coaching**\n",
    "* Customers appreciate the coaches moving around and correcting form during the class. Customers appreciate hearing from a NASM certified trainer who suggests doing the regular class before Lift45 for fat loss and vice versa for strength. They value the professional advice and find it helpful in planning their workouts.\n",
    "\n",
    "**perceived price value**\n",
    "* how course credits are used and counted"
   ]
  },
  {
   "cell_type": "markdown",
   "id": "292de9eb",
   "metadata": {},
   "source": [
    "## Writing a prompt for creating a list of posts and comments that are about customer sentiment of Lift45"
   ]
  },
  {
   "cell_type": "markdown",
   "id": "01ec7c4b",
   "metadata": {},
   "source": [
    "### Using the first 10 posts and comments for testing the prompt"
   ]
  },
  {
   "cell_type": "code",
   "execution_count": 71,
   "id": "beffb36c",
   "metadata": {},
   "outputs": [],
   "source": [
    "test_posts = posts[:10]"
   ]
  },
  {
   "cell_type": "code",
   "execution_count": 107,
   "id": "096310a9",
   "metadata": {},
   "outputs": [
    {
     "data": {
      "text/plain": [
       "[{'date': '2023-07-22',\n",
       "  'author': 'moonrivervoyages',\n",
       "  'title': 'Regular class into Lift45 in place of a 90 minute?',\n",
       "  'body': 'The studio I go to each Saturday for their 90 minute class has taken them off the schedule. My home studio has a regular 7 am class and then a Lift45 at 8:15. Have any of you ever tried doing this? I feel like it would be doable because I am used to doing a 90 once a week but wanted to know what others think!'},\n",
       " {'date': '2023-07-22',\n",
       "  'author': 'runningJD_82',\n",
       "  'title': 'Re: Regular class into Lift45 in place of a 90 minute?',\n",
       "  'body': 'I prefer to do the Lift45 before the regular 60. But yes its doable.'},\n",
       " {'date': '2023-07-22',\n",
       "  'author': 'moonrivervoyages',\n",
       "  'title': 'Re: Regular class into Lift45 in place of a 90 minute?',\n",
       "  'body': \"Oooo yes smart idea however that isn't an option for me because of my work schedule!\"},\n",
       " {'date': '2023-07-22',\n",
       "  'author': 'TuesGirl',\n",
       "  'title': 'Re: Regular class into Lift45 in place of a 90 minute?',\n",
       "  'body': 'Just know if you have a limited number of classes going the Lift + 60 will count as two classes and doing the 90 only counts as one.'},\n",
       " {'date': '2023-07-22',\n",
       "  'author': 'moonrivervoyages',\n",
       "  'title': 'Re: Regular class into Lift45 in place of a 90 minute?',\n",
       "  'body': 'Thank you so much! Good to know!'},\n",
       " {'date': '2023-07-22',\n",
       "  'author': 'splat_bot',\n",
       "  'title': 'Re: Regular class into Lift45 in place of a 90 minute?',\n",
       "  'body': 'I found some information that could be relevant to your question or topic.      Take a look at [previous conversations about pairing Lift 45 with a regular class](https://www.google.com/search?q=regular+60+lift45+site:reddit.com/r/orangetheory)      _This is an automated reply. If you would like to provide feedback, [please contact the moderators](https://www.reddit.com/message/compose/?to=/r/orangetheory)._'},\n",
       " {'date': '2023-07-22',\n",
       "  'author': 'jenniferlynn5454',\n",
       "  'title': 'Re: Regular class into Lift45 in place of a 90 minute?',\n",
       "  'body': \"I do it at least twice a week. Just bring a small snack for the quick break in-between and you're good to go\"},\n",
       " {'date': '2023-07-22',\n",
       "  'author': 'moonrivervoyages',\n",
       "  'title': 'Re: Regular class into Lift45 in place of a 90 minute?',\n",
       "  'body': 'Oh awesome! Thank you! What are your fav between class snacks?'},\n",
       " {'date': '2023-07-22',\n",
       "  'author': 'jenniferlynn5454',\n",
       "  'title': 'Re: Regular class into Lift45 in place of a 90 minute?',\n",
       "  'body': 'I love Aussie bites, protein bars or cashew clusters, all from Costco '},\n",
       " {'date': '2023-07-22',\n",
       "  'author': 'Kitty_Fruit_2520',\n",
       "  'title': 'Re: Regular class into Lift45 in place of a 90 minute?',\n",
       "  'body': 'You can do both, its not like your taking away someone elses chance to do the workout. I wouldnt do two regular classes back to back.'}]"
      ]
     },
     "execution_count": 107,
     "metadata": {},
     "output_type": "execute_result"
    }
   ],
   "source": [
    "test_posts"
   ]
  },
  {
   "cell_type": "markdown",
   "id": "c45f268c",
   "metadata": {},
   "source": [
    "<!-- Example post for posts that do not contain customer sentiment, compliments, criticisms, and feedback:\n",
    "    'date': '2023-07-22',\n",
    "    'author': 'moonrivervoyages',\n",
    "    'title': 'Regular class into Lift45 in place of a 90 minute?',\n",
    "    'body': 'The studio I go to each Saturday for their 90 minute class has taken them off the schedule. \\\n",
    "     My home studio has a regular 7 am class and then a Lift45 at 8:15. Have any of you ever tried doing this? \\\n",
    "     I feel like it would be doable because I am used to doing a 90 once a week but wanted to know what \\\n",
    "     others think!'\n",
    "     \n",
    "    Example response for above post: 'Irrelevant feedback.' -->"
   ]
  },
  {
   "cell_type": "markdown",
   "id": "8e450ed1",
   "metadata": {},
   "source": [
    "### Prompt Template"
   ]
  },
  {
   "cell_type": "code",
   "execution_count": 105,
   "id": "07594166",
   "metadata": {},
   "outputs": [
    {
     "name": "stdout",
     "output_type": "stream",
     "text": [
      "0 {\n",
      "    \"date\": \"2023-07-22\",\n",
      "    \"topic\": \"Lift45\",\n",
      "    \"title\": \"Regular class into Lift45 in place of a 90 minute?\",\n",
      "    \"source\": \"Reddit\",\n",
      "    \"author\": \"moonrivervoyages\",\n",
      "    \"sentiment\": \"neutral\",\n",
      "    \"summary\": \"The author is seeking opinions on whether it is doable to replace a 90-minute class with a Lift45 class and wants to know what others think.\",\n",
      "    \"text\": \"Have any of you ever tried doing this? I feel like it would be doable because I am used to doing a 90 once a week but wanted to know what others think!\",\n",
      "    \"category\": \"course relationship\"\n",
      "} \n",
      "\n",
      "1 {\n",
      "    \"date\": \"2023-07-22\",\n",
      "    \"topic\": \"Lift45\",\n",
      "    \"title\": \"Re: Regular class into Lift45 in place of a 90 minute?\",\n",
      "    \"source\": \"Reddit\",\n",
      "    \"author\": \"runningJD_82\",\n",
      "    \"sentiment\": \"positive\",\n",
      "    \"summary\": \"The author prefers to do Lift45 before the regular 60-minute class and finds it doable.\",\n",
      "    \"text\": \"I prefer to do the Lift45 before the regular 60. But yes its doable.\",\n",
      "    \"category\": \"course relationship\"\n",
      "} \n",
      "\n",
      "2 {\n",
      "    \"date\": \"2023-07-22\",\n",
      "    \"topic\": \"Lift45\",\n",
      "    \"title\": \"Re: Regular class into Lift45 in place of a 90 minute?\",\n",
      "    \"source\": \"Reddit\",\n",
      "    \"author\": \"moonrivervoyages\",\n",
      "    \"sentiment\": \"neutral\",\n",
      "    \"summary\": \"The author expresses that they are unable to choose Lift45 due to their work schedule.\",\n",
      "    \"text\": \"Oooo yes smart idea however that isn't an option for me because of my work schedule!\",\n",
      "    \"category\": \"course availability\"\n",
      "} \n",
      "\n",
      "3 {\n",
      "  \"date\": \"2023-07-22\",\n",
      "  \"topic\": \"Lift45\",\n",
      "  \"title\": \"Re: Regular class into Lift45 in place of a 90 minute?\",\n",
      "  \"source\": \"Reddit\",\n",
      "  \"author\": \"TuesGirl\",\n",
      "  \"sentiment\": \"neutral\",\n",
      "  \"summary\": \"The post/comment states that in terms of class count, Lift + 60 counts as two classes while doing the 90-minute class counts as one.\",\n",
      "  \"text\": \"Just know if you have a limited number of classes going the Lift + 60 will count as two classes and doing the 90 only counts as one.\",\n",
      "  \"category\": \"perceived price value\"\n",
      "} \n",
      "\n",
      "4 {\n",
      "    \"date\": \"2023-07-22\",\n",
      "    \"topic\": \"Lift45\",\n",
      "    \"title\": \"Re: Regular class into Lift45 in place of a 90 minute?\",\n",
      "    \"source\": \"Reddit\",\n",
      "    \"author\": \"moonrivervoyages\",\n",
      "    \"sentiment\": \"positive\",\n",
      "    \"summary\": \"The post/comment expresses positive sentiment.\",\n",
      "    \"text\": \"Thank you so much! Good to know!\",\n",
      "    \"category\": \"other\"\n",
      "} \n",
      "\n",
      "5 {\n",
      "    \"date\": \"2023-07-22\",\n",
      "    \"topic\": \"Lift45\",\n",
      "    \"title\": \"Re: Regular class into Lift45 in place of a 90 minute?\",\n",
      "    \"source\": \"Reddit\",\n",
      "    \"author\": \"splat_bot\",\n",
      "    \"sentiment\": \"neutral\",\n",
      "    \"summary\": \"The post provides information about pairing Lift45 with a regular class, but does not express a clear sentiment or feedback about Lift45.\",\n",
      "    \"text\": \"I found some information that could be relevant to your question or topic. Take a look at previous conversations about pairing Lift 45 with a regular class.\",\n",
      "    \"category\": \"other\"\n",
      "} \n",
      "\n",
      "6 {\n",
      "    \"date\": \"2023-07-22\",\n",
      "    \"topic\": \"Lift45\",\n",
      "    \"title\": \"Re: Regular class into Lift45 in place of a 90 minute?\",\n",
      "    \"source\": \"Reddit\",\n",
      "    \"author\": \"jenniferlynn5454\",\n",
      "    \"sentiment\": \"positive\",\n",
      "    \"summary\": \"The author expresses a positive sentiment about Lift45, mentioning doing it at least twice a week and recommending bringing a small snack for the quick break in-between.\",\n",
      "    \"text\": \"I do it at least twice a week. Just bring a small snack for the quick break in-between and you're good to go\",\n",
      "    \"category\": \"exercise content\"\n",
      "} \n",
      "\n",
      "7 {\n",
      "    \"date\": \"2023-07-22\",\n",
      "    \"topic\": \"Lift45\",\n",
      "    \"title\": \"Re: Regular class into Lift45 in place of a 90 minute?\",\n",
      "    \"source\": \"Reddit\",\n",
      "    \"author\": \"moonrivervoyages\",\n",
      "    \"sentiment\": \"positive\",\n",
      "    \"summary\": \"The post/comment expresses positive sentiment about Lift45.\",\n",
      "    \"text\": \"Oh awesome! Thank you! What are your fav between class snacks?\",\n",
      "    \"category\": \"other\"\n",
      "} \n",
      "\n",
      "8 {\n",
      "    \"date\": \"2023-07-22\",\n",
      "    \"topic\": \"Lift45\",\n",
      "    \"title\": \"Re: Regular class into Lift45 in place of a 90 minute?\",\n",
      "    \"source\": \"Reddit\",\n",
      "    \"author\": \"jenniferlynn5454\",\n",
      "    \"sentiment\": \"positive\",\n",
      "    \"summary\": \"The author expresses their love for Aussie bites, protein bars, and cashew clusters from Costco.\",\n",
      "    \"text\": \"I love Aussie bites, protein bars or cashew clusters, all from Costco\",\n",
      "    \"category\": \"other\"\n",
      "} \n",
      "\n",
      "9 {\n",
      "    \"date\": \"2023-07-22\",\n",
      "    \"topic\": \"Lift45\",\n",
      "    \"title\": \"Re: Regular class into Lift45 in place of a 90 minute?\",\n",
      "    \"source\": \"Reddit\",\n",
      "    \"author\": \"Kitty_Fruit_2520\",\n",
      "    \"sentiment\": \"neutral\",\n",
      "    \"summary\": \"The author expresses a neutral sentiment about doing Lift45 in place of a 90-minute class.\",\n",
      "    \"text\": \"You can do both, its not like your taking away someone elses chance to do the workout. I wouldnt do two regular classes back to back.\",\n",
      "    \"category\": \"course relationship\"\n",
      "} \n",
      "\n"
     ]
    }
   ],
   "source": [
    "json_objects = []\n",
    "\n",
    "for i in range(len(test_posts)):\n",
    "    prompt = f\"\"\"\n",
    "    Your role is to summarize relevant customer sentiment information from a social media post or comment about \\\n",
    "    the course Lift45, which is offered by the fitness company Orangetheory. Orangetheory is sometimes referred \\\n",
    "    to as OTF. \n",
    "\n",
    "    The social media post or comment of interest is delimited by 3 backticks. \n",
    "    Social Media Post: ```{posts[i]['body']}```\n",
    "\n",
    "    The below 10 fields are the JSON keys that you should output after analyzing the post. \n",
    "\n",
    "    1. date: #{test_posts[i]['date']}#\n",
    "    \n",
    "    2. topic: 'Lift45'\n",
    "\n",
    "    3. title: ##{test_posts[i]['title']}##\n",
    "\n",
    "    4. source: 'Reddit'\n",
    "\n",
    "    5. author: ###{test_posts[i]['author']}###\n",
    "\n",
    "    6. sentiment: Determine whether the post/comment has a positive, neutural, or negative customer sentiment. \\\n",
    "    Use 1 of the 3 words only.\n",
    "    \n",
    "    7. summary: Provide a 1 sentence summary on the post, focusing on customer sentiment and/or compliments, \\\n",
    "    criticisms, and feedback about Lift45.\n",
    "     \n",
    "    8. text: Only extract text that is about customer sentiment and/or compliments, criticisms, \\\n",
    "    and feedback about Lift45. Do not extract any other texts.   \n",
    "\n",
    "    9. category: \n",
    "    \n",
    "        5 categories of feedback are as follows:\n",
    "\n",
    "        - exercise content: How effective are the exercrises in Lift45 in terms of activity type, \\\n",
    "        intensity, and pace. \n",
    "        \n",
    "        - course relationship: How should a customer choose what classes to take and in what order. \\ Some \\\n",
    "        courses that are offered include Lift45, regular classes which are 60 minutes, and 90-minute classes.\n",
    "\n",
    "        - course availability: How does scheduling and capacity constraints affect customers' ability to \\\n",
    "        join Lift45 classes.\n",
    "\n",
    "        - coaching: How professional and helpful the trainer is.\n",
    "\n",
    "        - perceived price value: how course credits are used and counted.\n",
    "        \n",
    "    Categorize the post/comment as one of the 5 above listed categories that the author is providing feedback \\\n",
    "    about, including 'exercise content', course relationship', 'course availability', 'coaching', \\\n",
    "    and 'perceived price value'. Use \"other\" if the post/comment does not fall into any of the 5 categories. \\\n",
    "    Do not leave blank.\n",
    "    \n",
    "    ----------\n",
    "    YOUR TASK: \n",
    "    Analyze the post for each of the JSON keys mentioned above and \\\n",
    "    output the result in JSON format: date, topic, title, source, author, sentiment, summary, text, and area.\n",
    "    \n",
    "    \"\"\"\n",
    "\n",
    "    response = get_completion(prompt)\n",
    "    print(i, response, \"\\n\")\n",
    "    \n",
    "    # Load the response string as a dictionary and add to the list\n",
    "    json_objects.append(json.loads(response))\n",
    "\n",
    "    time.sleep(20)"
   ]
  },
  {
   "cell_type": "markdown",
   "id": "61223de4",
   "metadata": {},
   "source": [
    "## Fetching all Reddit posts, comments, and replies about Lift45 from the last 3 months"
   ]
  },
  {
   "cell_type": "code",
   "execution_count": null,
   "id": "5f51f8f9",
   "metadata": {},
   "outputs": [],
   "source": []
  }
 ],
 "metadata": {
  "kernelspec": {
   "display_name": "Python 3 (ipykernel)",
   "language": "python",
   "name": "python3"
  },
  "language_info": {
   "codemirror_mode": {
    "name": "ipython",
    "version": 3
   },
   "file_extension": ".py",
   "mimetype": "text/x-python",
   "name": "python",
   "nbconvert_exporter": "python",
   "pygments_lexer": "ipython3",
   "version": "3.10.12"
  }
 },
 "nbformat": 4,
 "nbformat_minor": 5
}
